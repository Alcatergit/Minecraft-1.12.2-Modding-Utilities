{
 "cells": [
  {
   "cell_type": "code",
   "execution_count": 36,
   "id": "7605ee16",
   "metadata": {},
   "outputs": [],
   "source": [
    "from numpy import array\n",
    "total = 100"
   ]
  },
  {
   "cell_type": "code",
   "execution_count": 104,
   "id": "025a7791",
   "metadata": {},
   "outputs": [],
   "source": [
    "numbers = array([82, 3, 10, 5])"
   ]
  },
  {
   "cell_type": "code",
   "execution_count": 105,
   "id": "86f8961e",
   "metadata": {},
   "outputs": [],
   "source": [
    "n_sum = sum(numbers)\n",
    "percentages = total * numbers / n_sum\n",
    "n_rounded = percentages.round()\n",
    "n_rounded[0] = n_rounded[0] - sum(n_rounded) + total"
   ]
  },
  {
   "cell_type": "code",
   "execution_count": 106,
   "id": "8d12078f",
   "metadata": {},
   "outputs": [
    {
     "data": {
      "text/plain": [
       "array([82.,  3., 10.,  5.])"
      ]
     },
     "execution_count": 106,
     "metadata": {},
     "output_type": "execute_result"
    }
   ],
   "source": [
    "n_rounded"
   ]
  },
  {
   "cell_type": "code",
   "execution_count": 103,
   "id": "029dae09",
   "metadata": {},
   "outputs": [
    {
     "data": {
      "text/plain": [
       "12"
      ]
     },
     "execution_count": 103,
     "metadata": {},
     "output_type": "execute_result"
    }
   ],
   "source": [
    "1+4+2+2+3"
   ]
  },
  {
   "cell_type": "code",
   "execution_count": null,
   "id": "da2dfdad",
   "metadata": {},
   "outputs": [],
   "source": []
  }
 ],
 "metadata": {
  "kernelspec": {
   "display_name": "Python 3",
   "language": "python",
   "name": "python3"
  },
  "language_info": {
   "codemirror_mode": {
    "name": "ipython",
    "version": 3
   },
   "file_extension": ".py",
   "mimetype": "text/x-python",
   "name": "python",
   "nbconvert_exporter": "python",
   "pygments_lexer": "ipython3",
   "version": "3.8.8"
  }
 },
 "nbformat": 4,
 "nbformat_minor": 5
}
